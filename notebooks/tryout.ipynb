{
 "cells": [
  {
   "cell_type": "markdown",
   "metadata": {},
   "source": [
    "# MVP 03 - Engenharia de Dados"
   ]
  },
  {
   "cell_type": "markdown",
   "metadata": {},
   "source": [
    "## Objetivos do MVP"
   ]
  },
  {
   "cell_type": "markdown",
   "metadata": {},
   "source": [
    "1. Este MVP tem como principal objetivo o desenvolvimento de um pipeline ETL (Extract, Transform and Load) robusto e escalável, implementando uma solução end-to-end (E2E) para integração de dados entre um servidor SFTP e um banco de dados PostgreSQL.\n",
    "\n",
    "2. O pipeline será responsável pela extração automatizada de arquivos no formato .txt, que seguem uma estrutura padronizada e contêm informações cruciais relacionadas às transações financeiras processadas de uma das principais adquirentes de cartão do Supermercado analisado.\n",
    "\n",
    "3. Por fim, esse pipeline é usado como uma das etapas do serviço de conciliação financeira que permitirá o controle das transações do Supermercado."
   ]
  },
  {
   "cell_type": "markdown",
   "metadata": {},
   "source": [
    "Escolha de tecnologias:\n",
    "\n",
    "- Foi escolhido o uso do PostgreSQL e do armazenamento no Google Drive por motivos de custo, simplicidade e agilidade no desenvolvimento. Dado o tamanho reduzido do MVP e os custos associados a outras plataformas (AWS, GCP ou Databricks), optou-se por uma solução mais econômica e igualmente funcional, sem comprometer a qualidade técnica e os requisitos do projeto."
   ]
  },
  {
   "cell_type": "markdown",
   "metadata": {},
   "source": [
    "## Tryout - Exemplo de aplicação para fins de testes"
   ]
  },
  {
   "cell_type": "markdown",
   "metadata": {},
   "source": [
    "### Importação de pacotes"
   ]
  },
  {
   "cell_type": "code",
   "execution_count": 1,
   "metadata": {},
   "outputs": [],
   "source": [
    "import os\n",
    "import pandas as pd\n",
    "import psycopg2\n",
    "from dotenv import load_dotenv\n",
    "load_dotenv()\n",
    "import sys\n",
    "sys.path.append(r'C:\\Users\\ediva\\OneDrive\\Documentos\\VS Code\\aca_so\\git_acaso\\mvp_03_postgratudation')\n",
    "from scripts.leitor_extratos import (\n",
    "    process_file,\n",
    "    prepare_dimension_tables\n",
    ")\n",
    "from scripts.reading_files import ExtratoTransacao\n",
    "from scripts.transform_files import TransformerTrasacoes\n",
    "from scripts.connection_db import (\n",
    "    insert_df_to_db,\n",
    "    delete_file_data\n",
    ")\n",
    "\n",
    "connection_params = {\n",
    "    'host': os.getenv('DB_HOST'),\n",
    "    'user': os.getenv('DB_USER'),\n",
    "    'password': os.getenv('DB_PASSWORD'),\n",
    "    'database': os.getenv('DB_NAME'),\n",
    "    'port': os.getenv('DB_PORT')\n",
    "}"
   ]
  },
  {
   "cell_type": "markdown",
   "metadata": {},
   "source": [
    "### Leitura dos dados brutos"
   ]
  },
  {
   "cell_type": "code",
   "execution_count": 2,
   "metadata": {},
   "outputs": [
    {
     "name": "stdout",
     "output_type": "stream",
     "text": [
      "\n",
      "Informações do Header:\n"
     ]
    },
    {
     "data": {
      "text/plain": [
       "codigo_registro             A0\n",
       "versao_layout           002.0a\n",
       "data_geracao          20240917\n",
       "tipo_processamento           N\n",
       "Name: 0, dtype: object"
      ]
     },
     "metadata": {},
     "output_type": "display_data"
    },
    {
     "name": "stdout",
     "output_type": "stream",
     "text": [
      "\n",
      "Primeiras transações:\n"
     ]
    },
    {
     "data": {
      "text/html": [
       "<div>\n",
       "<style scoped>\n",
       "    .dataframe tbody tr th:only-of-type {\n",
       "        vertical-align: middle;\n",
       "    }\n",
       "\n",
       "    .dataframe tbody tr th {\n",
       "        vertical-align: top;\n",
       "    }\n",
       "\n",
       "    .dataframe thead th {\n",
       "        text-align: right;\n",
       "    }\n",
       "</style>\n",
       "<table border=\"1\" class=\"dataframe\">\n",
       "  <thead>\n",
       "    <tr style=\"text-align: right;\">\n",
       "      <th></th>\n",
       "      <th>codigo_registro</th>\n",
       "      <th>identificacao_loja</th>\n",
       "      <th>nsu_host_transacao</th>\n",
       "      <th>data_transacao</th>\n",
       "      <th>horario_transacao</th>\n",
       "      <th>tipo_lancamento</th>\n",
       "      <th>data_lancamento</th>\n",
       "      <th>tipo_produto</th>\n",
       "      <th>meio_captura</th>\n",
       "      <th>valor_bruto_venda</th>\n",
       "      <th>...</th>\n",
       "      <th>data_vencimento_original</th>\n",
       "      <th>indicador_deb_balance</th>\n",
       "      <th>indicador_reenvio</th>\n",
       "      <th>nsu_origem</th>\n",
       "      <th>reservado_final</th>\n",
       "      <th>numero_operacao_recebivel</th>\n",
       "      <th>sequencial_operacao_recebivel</th>\n",
       "      <th>tipo_operacao_recebivel</th>\n",
       "      <th>valor_operacao_recebivel</th>\n",
       "      <th>nseq</th>\n",
       "    </tr>\n",
       "  </thead>\n",
       "  <tbody>\n",
       "    <tr>\n",
       "      <th>0</th>\n",
       "      <td>CV</td>\n",
       "      <td>008935303000108</td>\n",
       "      <td>000190825603</td>\n",
       "      <td>20240916</td>\n",
       "      <td>000000</td>\n",
       "      <td>0</td>\n",
       "      <td>20241017</td>\n",
       "      <td>C</td>\n",
       "      <td>3</td>\n",
       "      <td>34.00</td>\n",
       "      <td>...</td>\n",
       "      <td>20241017</td>\n",
       "      <td></td>\n",
       "      <td></td>\n",
       "      <td>000031</td>\n",
       "      <td></td>\n",
       "      <td></td>\n",
       "      <td>00</td>\n",
       "      <td></td>\n",
       "      <td>0.00</td>\n",
       "      <td>000003</td>\n",
       "    </tr>\n",
       "    <tr>\n",
       "      <th>1</th>\n",
       "      <td>CV</td>\n",
       "      <td>008935303000108</td>\n",
       "      <td>000190839036</td>\n",
       "      <td>20240916</td>\n",
       "      <td>000000</td>\n",
       "      <td>0</td>\n",
       "      <td>20241017</td>\n",
       "      <td>C</td>\n",
       "      <td>3</td>\n",
       "      <td>73.29</td>\n",
       "      <td>...</td>\n",
       "      <td>20241017</td>\n",
       "      <td></td>\n",
       "      <td></td>\n",
       "      <td>000032</td>\n",
       "      <td></td>\n",
       "      <td></td>\n",
       "      <td>00</td>\n",
       "      <td></td>\n",
       "      <td>0.00</td>\n",
       "      <td>000004</td>\n",
       "    </tr>\n",
       "    <tr>\n",
       "      <th>2</th>\n",
       "      <td>CV</td>\n",
       "      <td>008935303000108</td>\n",
       "      <td>000190850566</td>\n",
       "      <td>20240916</td>\n",
       "      <td>000000</td>\n",
       "      <td>0</td>\n",
       "      <td>20241017</td>\n",
       "      <td>C</td>\n",
       "      <td>3</td>\n",
       "      <td>38.54</td>\n",
       "      <td>...</td>\n",
       "      <td>20241017</td>\n",
       "      <td></td>\n",
       "      <td></td>\n",
       "      <td>160042</td>\n",
       "      <td></td>\n",
       "      <td></td>\n",
       "      <td>00</td>\n",
       "      <td></td>\n",
       "      <td>0.00</td>\n",
       "      <td>000005</td>\n",
       "    </tr>\n",
       "    <tr>\n",
       "      <th>3</th>\n",
       "      <td>CV</td>\n",
       "      <td>008935303000108</td>\n",
       "      <td>000190853893</td>\n",
       "      <td>20240916</td>\n",
       "      <td>000000</td>\n",
       "      <td>0</td>\n",
       "      <td>20241017</td>\n",
       "      <td>C</td>\n",
       "      <td>3</td>\n",
       "      <td>25.98</td>\n",
       "      <td>...</td>\n",
       "      <td>20241017</td>\n",
       "      <td></td>\n",
       "      <td></td>\n",
       "      <td>160043</td>\n",
       "      <td></td>\n",
       "      <td></td>\n",
       "      <td>00</td>\n",
       "      <td></td>\n",
       "      <td>0.00</td>\n",
       "      <td>000006</td>\n",
       "    </tr>\n",
       "    <tr>\n",
       "      <th>4</th>\n",
       "      <td>CV</td>\n",
       "      <td>008935303000108</td>\n",
       "      <td>000190970775</td>\n",
       "      <td>20240916</td>\n",
       "      <td>000000</td>\n",
       "      <td>0</td>\n",
       "      <td>20241017</td>\n",
       "      <td>C</td>\n",
       "      <td>3</td>\n",
       "      <td>10.00</td>\n",
       "      <td>...</td>\n",
       "      <td>20241017</td>\n",
       "      <td></td>\n",
       "      <td></td>\n",
       "      <td>160063</td>\n",
       "      <td></td>\n",
       "      <td></td>\n",
       "      <td>00</td>\n",
       "      <td></td>\n",
       "      <td>0.00</td>\n",
       "      <td>000007</td>\n",
       "    </tr>\n",
       "  </tbody>\n",
       "</table>\n",
       "<p>5 rows × 49 columns</p>\n",
       "</div>"
      ],
      "text/plain": [
       "  codigo_registro identificacao_loja nsu_host_transacao data_transacao  \\\n",
       "0              CV    008935303000108       000190825603       20240916   \n",
       "1              CV    008935303000108       000190839036       20240916   \n",
       "2              CV    008935303000108       000190850566       20240916   \n",
       "3              CV    008935303000108       000190853893       20240916   \n",
       "4              CV    008935303000108       000190970775       20240916   \n",
       "\n",
       "  horario_transacao tipo_lancamento data_lancamento tipo_produto meio_captura  \\\n",
       "0            000000               0        20241017            C            3   \n",
       "1            000000               0        20241017            C            3   \n",
       "2            000000               0        20241017            C            3   \n",
       "3            000000               0        20241017            C            3   \n",
       "4            000000               0        20241017            C            3   \n",
       "\n",
       "  valor_bruto_venda  ... data_vencimento_original indicador_deb_balance  \\\n",
       "0             34.00  ...                 20241017                         \n",
       "1             73.29  ...                 20241017                         \n",
       "2             38.54  ...                 20241017                         \n",
       "3             25.98  ...                 20241017                         \n",
       "4             10.00  ...                 20241017                         \n",
       "\n",
       "  indicador_reenvio nsu_origem reservado_final numero_operacao_recebivel  \\\n",
       "0                       000031                                             \n",
       "1                       000032                                             \n",
       "2                       160042                                             \n",
       "3                       160043                                             \n",
       "4                       160063                                             \n",
       "\n",
       "  sequencial_operacao_recebivel tipo_operacao_recebivel  \\\n",
       "0                            00                           \n",
       "1                            00                           \n",
       "2                            00                           \n",
       "3                            00                           \n",
       "4                            00                           \n",
       "\n",
       "  valor_operacao_recebivel    nseq  \n",
       "0                     0.00  000003  \n",
       "1                     0.00  000004  \n",
       "2                     0.00  000005  \n",
       "3                     0.00  000006  \n",
       "4                     0.00  000007  \n",
       "\n",
       "[5 rows x 49 columns]"
      ]
     },
     "metadata": {},
     "output_type": "display_data"
    },
    {
     "name": "stdout",
     "output_type": "stream",
     "text": [
      "\n",
      "Informações do Trailer:\n"
     ]
    },
    {
     "data": {
      "text/plain": [
       "total_registros    000195\n",
       "Name: 0, dtype: object"
      ]
     },
     "metadata": {},
     "output_type": "display_data"
    }
   ],
   "source": [
    "teste_file = 'EXTRATO_UNICA_51309_20240917_00003'\n",
    "extrato = ExtratoTransacao(file_path=r'..\\data\\EXTRATO_UNICA_51309_20240917_00003')\n",
    "df_header, df_transacoes, df_trailer = extrato.process_file()\n",
    "\n",
    "print(\"\\nInformações do Header:\")\n",
    "display(df_header[['codigo_registro', 'versao_layout', 'data_geracao', 'tipo_processamento']].iloc[0])\n",
    "\n",
    "print(\"\\nPrimeiras transações:\")\n",
    "display(df_transacoes.head())\n",
    "\n",
    "print(\"\\nInformações do Trailer:\")\n",
    "display(df_trailer[['total_registros']].iloc[0])"
   ]
  },
  {
   "cell_type": "markdown",
   "metadata": {},
   "source": [
    "### Transformação e Validação"
   ]
  },
  {
   "cell_type": "code",
   "execution_count": 3,
   "metadata": {},
   "outputs": [
    {
     "name": "stdout",
     "output_type": "stream",
     "text": [
      "Todas as validações passaram.\n",
      "\n",
      "Validação concluída com sucesso!\n",
      "Total de registros validados: 191\n"
     ]
    }
   ],
   "source": [
    "df_transacoes['file_name'] = 'EXTRATO_UNICA_51309_20240917_00003'\n",
    "\n",
    "transformer = TransformerTrasacoes(dataframe=df_transacoes)\n",
    "df_transacoes_validated = transformer.validate_all()\n",
    "\n",
    "if isinstance(df_transacoes_validated, list):\n",
    "    print(\"\\nErros encontrados:\")\n",
    "    for erro in df_transacoes_validated:\n",
    "        print(f\"- {erro}\")\n",
    "else:\n",
    "    print(\"\\nValidação concluída com sucesso!\")\n",
    "    print(f\"Total de registros validados: {len(df_transacoes_validated)}\")"
   ]
  },
  {
   "cell_type": "markdown",
   "metadata": {},
   "source": [
    "### Inserção no banco\n",
    "\n",
    "> disclaimer: para fins de testes será feito um processo com um schema em ambiente de desenvolvimento, com o mesmo arquivo sendo feito a deleção do banco e depois a inserção para teste do pipeline."
   ]
  },
  {
   "cell_type": "markdown",
   "metadata": {},
   "source": [
    "#### Preparando as dimensões"
   ]
  },
  {
   "cell_type": "code",
   "execution_count": 4,
   "metadata": {},
   "outputs": [
    {
     "name": "stdout",
     "output_type": "stream",
     "text": [
      "Dimensões preparadas:\n",
      "Tempo: 6 registros únicos\n",
      "Loja: 1 registros únicos\n",
      "Produto: 6 registros únicos\n",
      "Pagamento: 3 registros únicos\n"
     ]
    }
   ],
   "source": [
    "df_tempo, df_loja, df_produto, df_pagamento = prepare_dimension_tables(df_transacoes_validated)\n",
    "\n",
    "print(\"Dimensões preparadas:\")\n",
    "print(f\"Tempo: {len(df_tempo)} registros únicos\")\n",
    "print(f\"Loja: {len(df_loja)} registros únicos\") \n",
    "print(f\"Produto: {len(df_produto)} registros únicos\")\n",
    "print(f\"Pagamento: {len(df_pagamento)} registros únicos\")"
   ]
  },
  {
   "cell_type": "markdown",
   "metadata": {},
   "source": [
    "#### Deletando file tryout"
   ]
  },
  {
   "cell_type": "code",
   "execution_count": 7,
   "metadata": {},
   "outputs": [
    {
     "name": "stdout",
     "output_type": "stream",
     "text": [
      "\n",
      "1. Deletando dados existentes...\n",
      "✓ Dados deletados com sucesso\n"
     ]
    }
   ],
   "source": [
    "print(\"\\n1. Deletando dados existentes...\")\n",
    "if delete_file_data(**connection_params, file_name=teste_file):\n",
    "    print(\"✓ Dados deletados com sucesso\")\n",
    "else:\n",
    "    print(\"✗ Erro ao deletar dados\")"
   ]
  },
  {
   "cell_type": "markdown",
   "metadata": {},
   "source": [
    "#### Inserindo file tryout"
   ]
  },
  {
   "cell_type": "code",
   "execution_count": 8,
   "metadata": {},
   "outputs": [
    {
     "name": "stdout",
     "output_type": "stream",
     "text": [
      "Todas as validações passaram.\n"
     ]
    },
    {
     "data": {
      "text/plain": [
       "True"
      ]
     },
     "execution_count": 8,
     "metadata": {},
     "output_type": "execute_result"
    }
   ],
   "source": [
    "test_file = 'EXTRATO_UNICA_51309_20240917_00003'\n",
    "file_path = f'../data/{test_file}'\n",
    "process_file(file_name=test_file,\n",
    "             local_file_path=file_path,\n",
    "             google_drive_path=os.path.join(os.getenv('GOOGLE_DRIVE_DIRECTORY'), test_file),\n",
    "             connection_params=connection_params,\n",
    "             is_tryout=True\n",
    "             )"
   ]
  },
  {
   "cell_type": "markdown",
   "metadata": {},
   "source": [
    "## Análises após processamento \n",
    "\n",
    "(usando a modelagem definida e o problemas de negócios a serem analisados)"
   ]
  },
  {
   "cell_type": "code",
   "execution_count": 2,
   "metadata": {},
   "outputs": [
    {
     "ename": "OSError",
     "evalue": "'seaborn' is not a valid package style, path of style file, URL of style file, or library style name (library styles are listed in `style.available`)",
     "output_type": "error",
     "traceback": [
      "\u001b[1;31m---------------------------------------------------------------------------\u001b[0m",
      "\u001b[1;31mFileNotFoundError\u001b[0m                         Traceback (most recent call last)",
      "File \u001b[1;32mc:\\Users\\ediva\\OneDrive\\Documentos\\VS Code\\aca_so\\.conda\\lib\\site-packages\\matplotlib\\style\\core.py:137\u001b[0m, in \u001b[0;36muse\u001b[1;34m(style)\u001b[0m\n\u001b[0;32m    136\u001b[0m \u001b[38;5;28;01mtry\u001b[39;00m:\n\u001b[1;32m--> 137\u001b[0m     style \u001b[38;5;241m=\u001b[39m \u001b[43m_rc_params_in_file\u001b[49m\u001b[43m(\u001b[49m\u001b[43mstyle\u001b[49m\u001b[43m)\u001b[49m\n\u001b[0;32m    138\u001b[0m \u001b[38;5;28;01mexcept\u001b[39;00m \u001b[38;5;167;01mOSError\u001b[39;00m \u001b[38;5;28;01mas\u001b[39;00m err:\n",
      "File \u001b[1;32mc:\\Users\\ediva\\OneDrive\\Documentos\\VS Code\\aca_so\\.conda\\lib\\site-packages\\matplotlib\\__init__.py:870\u001b[0m, in \u001b[0;36m_rc_params_in_file\u001b[1;34m(fname, transform, fail_on_error)\u001b[0m\n\u001b[0;32m    869\u001b[0m rc_temp \u001b[38;5;241m=\u001b[39m {}\n\u001b[1;32m--> 870\u001b[0m \u001b[38;5;28;01mwith\u001b[39;00m _open_file_or_url(fname) \u001b[38;5;28;01mas\u001b[39;00m fd:\n\u001b[0;32m    871\u001b[0m     \u001b[38;5;28;01mtry\u001b[39;00m:\n",
      "File \u001b[1;32mc:\\Users\\ediva\\OneDrive\\Documentos\\VS Code\\aca_so\\.conda\\lib\\contextlib.py:135\u001b[0m, in \u001b[0;36m_GeneratorContextManager.__enter__\u001b[1;34m(self)\u001b[0m\n\u001b[0;32m    134\u001b[0m \u001b[38;5;28;01mtry\u001b[39;00m:\n\u001b[1;32m--> 135\u001b[0m     \u001b[38;5;28;01mreturn\u001b[39;00m \u001b[38;5;28;43mnext\u001b[39;49m\u001b[43m(\u001b[49m\u001b[38;5;28;43mself\u001b[39;49m\u001b[38;5;241;43m.\u001b[39;49m\u001b[43mgen\u001b[49m\u001b[43m)\u001b[49m\n\u001b[0;32m    136\u001b[0m \u001b[38;5;28;01mexcept\u001b[39;00m \u001b[38;5;167;01mStopIteration\u001b[39;00m:\n",
      "File \u001b[1;32mc:\\Users\\ediva\\OneDrive\\Documentos\\VS Code\\aca_so\\.conda\\lib\\site-packages\\matplotlib\\__init__.py:847\u001b[0m, in \u001b[0;36m_open_file_or_url\u001b[1;34m(fname)\u001b[0m\n\u001b[0;32m    846\u001b[0m fname \u001b[38;5;241m=\u001b[39m os\u001b[38;5;241m.\u001b[39mpath\u001b[38;5;241m.\u001b[39mexpanduser(fname)\n\u001b[1;32m--> 847\u001b[0m \u001b[38;5;28;01mwith\u001b[39;00m \u001b[38;5;28;43mopen\u001b[39;49m\u001b[43m(\u001b[49m\u001b[43mfname\u001b[49m\u001b[43m,\u001b[49m\u001b[43m \u001b[49m\u001b[43mencoding\u001b[49m\u001b[38;5;241;43m=\u001b[39;49m\u001b[38;5;124;43m'\u001b[39;49m\u001b[38;5;124;43mutf-8\u001b[39;49m\u001b[38;5;124;43m'\u001b[39;49m\u001b[43m)\u001b[49m \u001b[38;5;28;01mas\u001b[39;00m f:\n\u001b[0;32m    848\u001b[0m     \u001b[38;5;28;01myield\u001b[39;00m f\n",
      "\u001b[1;31mFileNotFoundError\u001b[0m: [Errno 2] No such file or directory: 'seaborn'",
      "\nThe above exception was the direct cause of the following exception:\n",
      "\u001b[1;31mOSError\u001b[0m                                   Traceback (most recent call last)",
      "Cell \u001b[1;32mIn[2], line 1\u001b[0m\n\u001b[1;32m----> 1\u001b[0m \u001b[38;5;28;01mfrom\u001b[39;00m \u001b[38;5;21;01mscripts\u001b[39;00m\u001b[38;5;21;01m.\u001b[39;00m\u001b[38;5;21;01manalysis\u001b[39;00m \u001b[38;5;28;01mimport\u001b[39;00m (\n\u001b[0;32m      2\u001b[0m     calculate_mdr_by_produto,\n\u001b[0;32m      3\u001b[0m     plot_mdr_by_produto,\n\u001b[0;32m      4\u001b[0m     simulate_mdr_by_product\n\u001b[0;32m      5\u001b[0m )\n",
      "File \u001b[1;32m~\\OneDrive\\Documentos\\VS Code\\aca_so\\git_acaso\\mvp_03_postgratudation\\scripts\\analysis.py:9\u001b[0m\n\u001b[0;32m      6\u001b[0m \u001b[38;5;28;01mimport\u001b[39;00m \u001b[38;5;21;01mmatplotlib\u001b[39;00m\u001b[38;5;21;01m.\u001b[39;00m\u001b[38;5;21;01mpyplot\u001b[39;00m \u001b[38;5;28;01mas\u001b[39;00m \u001b[38;5;21;01mplt\u001b[39;00m\n\u001b[0;32m      7\u001b[0m \u001b[38;5;28;01mimport\u001b[39;00m \u001b[38;5;21;01mseaborn\u001b[39;00m \u001b[38;5;28;01mas\u001b[39;00m \u001b[38;5;21;01msns\u001b[39;00m\n\u001b[1;32m----> 9\u001b[0m \u001b[43mplt\u001b[49m\u001b[38;5;241;43m.\u001b[39;49m\u001b[43mstyle\u001b[49m\u001b[38;5;241;43m.\u001b[39;49m\u001b[43muse\u001b[49m\u001b[43m(\u001b[49m\u001b[38;5;124;43m'\u001b[39;49m\u001b[38;5;124;43mseaborn\u001b[39;49m\u001b[38;5;124;43m'\u001b[39;49m\u001b[43m)\u001b[49m\n\u001b[0;32m     10\u001b[0m sns\u001b[38;5;241m.\u001b[39mset_palette([\u001b[38;5;124m'\u001b[39m\u001b[38;5;124m#8B0000\u001b[39m\u001b[38;5;124m'\u001b[39m, \u001b[38;5;124m'\u001b[39m\u001b[38;5;124m#A52A2A\u001b[39m\u001b[38;5;124m'\u001b[39m, \u001b[38;5;124m'\u001b[39m\u001b[38;5;124m#B22222\u001b[39m\u001b[38;5;124m'\u001b[39m, \u001b[38;5;124m'\u001b[39m\u001b[38;5;124m#DC143C\u001b[39m\u001b[38;5;124m'\u001b[39m])\n\u001b[0;32m     11\u001b[0m plt\u001b[38;5;241m.\u001b[39mrcParams[\u001b[38;5;124m'\u001b[39m\u001b[38;5;124mfigure.figsize\u001b[39m\u001b[38;5;124m'\u001b[39m] \u001b[38;5;241m=\u001b[39m (\u001b[38;5;241m15\u001b[39m, \u001b[38;5;241m7\u001b[39m)\n",
      "File \u001b[1;32mc:\\Users\\ediva\\OneDrive\\Documentos\\VS Code\\aca_so\\.conda\\lib\\site-packages\\matplotlib\\style\\core.py:139\u001b[0m, in \u001b[0;36muse\u001b[1;34m(style)\u001b[0m\n\u001b[0;32m    137\u001b[0m         style \u001b[38;5;241m=\u001b[39m _rc_params_in_file(style)\n\u001b[0;32m    138\u001b[0m     \u001b[38;5;28;01mexcept\u001b[39;00m \u001b[38;5;167;01mOSError\u001b[39;00m \u001b[38;5;28;01mas\u001b[39;00m err:\n\u001b[1;32m--> 139\u001b[0m         \u001b[38;5;28;01mraise\u001b[39;00m \u001b[38;5;167;01mOSError\u001b[39;00m(\n\u001b[0;32m    140\u001b[0m             \u001b[38;5;124mf\u001b[39m\u001b[38;5;124m\"\u001b[39m\u001b[38;5;132;01m{\u001b[39;00mstyle\u001b[38;5;132;01m!r}\u001b[39;00m\u001b[38;5;124m is not a valid package style, path of style \u001b[39m\u001b[38;5;124m\"\u001b[39m\n\u001b[0;32m    141\u001b[0m             \u001b[38;5;124mf\u001b[39m\u001b[38;5;124m\"\u001b[39m\u001b[38;5;124mfile, URL of style file, or library style name (library \u001b[39m\u001b[38;5;124m\"\u001b[39m\n\u001b[0;32m    142\u001b[0m             \u001b[38;5;124mf\u001b[39m\u001b[38;5;124m\"\u001b[39m\u001b[38;5;124mstyles are listed in `style.available`)\u001b[39m\u001b[38;5;124m\"\u001b[39m) \u001b[38;5;28;01mfrom\u001b[39;00m \u001b[38;5;21;01merr\u001b[39;00m\n\u001b[0;32m    143\u001b[0m filtered \u001b[38;5;241m=\u001b[39m {}\n\u001b[0;32m    144\u001b[0m \u001b[38;5;28;01mfor\u001b[39;00m k \u001b[38;5;129;01min\u001b[39;00m style:  \u001b[38;5;66;03m# don't trigger RcParams.__getitem__('backend')\u001b[39;00m\n",
      "\u001b[1;31mOSError\u001b[0m: 'seaborn' is not a valid package style, path of style file, URL of style file, or library style name (library styles are listed in `style.available`)"
     ]
    }
   ],
   "source": [
    "from scripts.analysis import (\n",
    "    calculate_mdr_by_produto,\n",
    "    plot_mdr_by_produto,\n",
    "    simulate_mdr_by_product\n",
    ")"
   ]
  },
  {
   "cell_type": "code",
   "execution_count": 3,
   "metadata": {},
   "outputs": [
    {
     "name": "stderr",
     "output_type": "stream",
     "text": [
      "C:\\Users\\ediva\\OneDrive\\Documentos\\VS Code\\aca_so\\git_acaso\\mvp_03_postgratudation\\scripts\\analysis.py:110: UserWarning: pandas only supports SQLAlchemy connectable (engine/connection) or database string URI or sqlite3 DBAPI2 connection. Other DBAPI2 objects are not tested. Please consider using SQLAlchemy.\n",
      "  df = pd.read_sql(query, conn)\n"
     ]
    },
    {
     "data": {
      "text/html": [
       "<div>\n",
       "<style scoped>\n",
       "    .dataframe tbody tr th:only-of-type {\n",
       "        vertical-align: middle;\n",
       "    }\n",
       "\n",
       "    .dataframe tbody tr th {\n",
       "        vertical-align: top;\n",
       "    }\n",
       "\n",
       "    .dataframe thead th {\n",
       "        text-align: right;\n",
       "    }\n",
       "</style>\n",
       "<table border=\"1\" class=\"dataframe\">\n",
       "  <thead>\n",
       "    <tr style=\"text-align: right;\">\n",
       "      <th></th>\n",
       "      <th>codigo_produto</th>\n",
       "      <th>descricao</th>\n",
       "      <th>total_transacoes</th>\n",
       "      <th>valor_total</th>\n",
       "      <th>valor_liquido</th>\n",
       "      <th>mdr_percentual</th>\n",
       "    </tr>\n",
       "  </thead>\n",
       "  <tbody>\n",
       "    <tr>\n",
       "      <th>0</th>\n",
       "      <td>Elo Crédito</td>\n",
       "      <td>Elo Crédito</td>\n",
       "      <td>169</td>\n",
       "      <td>13444.59</td>\n",
       "      <td>13177.72</td>\n",
       "      <td>1.984962</td>\n",
       "    </tr>\n",
       "    <tr>\n",
       "      <th>1</th>\n",
       "      <td>Visa Crédito</td>\n",
       "      <td>Visa Crédito</td>\n",
       "      <td>1631</td>\n",
       "      <td>170165.76</td>\n",
       "      <td>166884.28</td>\n",
       "      <td>1.928402</td>\n",
       "    </tr>\n",
       "    <tr>\n",
       "      <th>2</th>\n",
       "      <td>Master Crédito</td>\n",
       "      <td>Master Crédito</td>\n",
       "      <td>3137</td>\n",
       "      <td>273505.59</td>\n",
       "      <td>268247.97</td>\n",
       "      <td>1.922308</td>\n",
       "    </tr>\n",
       "    <tr>\n",
       "      <th>3</th>\n",
       "      <td>Elo Débito</td>\n",
       "      <td>Elo Débito</td>\n",
       "      <td>603</td>\n",
       "      <td>32869.53</td>\n",
       "      <td>32590.78</td>\n",
       "      <td>0.848050</td>\n",
       "    </tr>\n",
       "    <tr>\n",
       "      <th>4</th>\n",
       "      <td>Outros</td>\n",
       "      <td>Outros</td>\n",
       "      <td>679</td>\n",
       "      <td>17772.06</td>\n",
       "      <td>17621.57</td>\n",
       "      <td>0.846779</td>\n",
       "    </tr>\n",
       "    <tr>\n",
       "      <th>5</th>\n",
       "      <td>Master Débito</td>\n",
       "      <td>Master Débito</td>\n",
       "      <td>1504</td>\n",
       "      <td>52816.03</td>\n",
       "      <td>52382.87</td>\n",
       "      <td>0.820130</td>\n",
       "    </tr>\n",
       "    <tr>\n",
       "      <th>6</th>\n",
       "      <td>Visa Débito</td>\n",
       "      <td>Visa Débito</td>\n",
       "      <td>1084</td>\n",
       "      <td>51809.33</td>\n",
       "      <td>51385.19</td>\n",
       "      <td>0.818656</td>\n",
       "    </tr>\n",
       "  </tbody>\n",
       "</table>\n",
       "</div>"
      ],
      "text/plain": [
       "   codigo_produto       descricao  total_transacoes  valor_total  \\\n",
       "0     Elo Crédito     Elo Crédito               169     13444.59   \n",
       "1    Visa Crédito    Visa Crédito              1631    170165.76   \n",
       "2  Master Crédito  Master Crédito              3137    273505.59   \n",
       "3      Elo Débito      Elo Débito               603     32869.53   \n",
       "4          Outros          Outros               679     17772.06   \n",
       "5   Master Débito   Master Débito              1504     52816.03   \n",
       "6     Visa Débito     Visa Débito              1084     51809.33   \n",
       "\n",
       "   valor_liquido  mdr_percentual  \n",
       "0       13177.72        1.984962  \n",
       "1      166884.28        1.928402  \n",
       "2      268247.97        1.922308  \n",
       "3       32590.78        0.848050  \n",
       "4       17621.57        0.846779  \n",
       "5       52382.87        0.820130  \n",
       "6       51385.19        0.818656  "
      ]
     },
     "metadata": {},
     "output_type": "display_data"
    },
    {
     "data": {
      "image/png": "[encoded data removed]",
      "text/plain": [
       "<Figure size 1200x600 with 1 Axes>"
      ]
     },
     "metadata": {},
     "output_type": "display_data"
    }
   ],
   "source": [
    "mdr_produto = calculate_mdr_by_produto(connection_params)\n",
    "display(mdr_produto)\n",
    "plot_mdr_by_produto(mdr_produto)"
   ]
  },
  {
   "cell_type": "code",
   "execution_count": 4,
   "metadata": {},
   "outputs": [
    {
     "data": {
      "image/png": "[encoded data removed]",
      "text/plain": [
       "<Figure size 1500x700 with 1 Axes>"
      ]
     },
     "metadata": {},
     "output_type": "display_data"
    },
    {
     "data": {
      "text/html": [
       "<div>\n",
       "<style scoped>\n",
       "    .dataframe tbody tr th:only-of-type {\n",
       "        vertical-align: middle;\n",
       "    }\n",
       "\n",
       "    .dataframe tbody tr th {\n",
       "        vertical-align: top;\n",
       "    }\n",
       "\n",
       "    .dataframe thead th {\n",
       "        text-align: right;\n",
       "    }\n",
       "</style>\n",
       "<table border=\"1\" class=\"dataframe\">\n",
       "  <thead>\n",
       "    <tr style=\"text-align: right;\">\n",
       "      <th></th>\n",
       "      <th>mes</th>\n",
       "      <th>codigo_produto</th>\n",
       "      <th>tipo_pagamento</th>\n",
       "      <th>tipo_parcelamento</th>\n",
       "      <th>total_transacoes</th>\n",
       "      <th>volume_total</th>\n",
       "      <th>mdr_atual</th>\n",
       "      <th>mdr_proposto</th>\n",
       "      <th>diferenca_mdr</th>\n",
       "    </tr>\n",
       "  </thead>\n",
       "  <tbody>\n",
       "    <tr>\n",
       "      <th>0</th>\n",
       "      <td>2025-03-01</td>\n",
       "      <td>Elo Crédito</td>\n",
       "      <td>Normal</td>\n",
       "      <td>a_vista</td>\n",
       "      <td>6</td>\n",
       "      <td>178.05</td>\n",
       "      <td>3.24</td>\n",
       "      <td>3.24000</td>\n",
       "      <td>0.00000</td>\n",
       "    </tr>\n",
       "    <tr>\n",
       "      <th>1</th>\n",
       "      <td>2025-03-01</td>\n",
       "      <td>Elo Débito</td>\n",
       "      <td>Normal</td>\n",
       "      <td>a_vista</td>\n",
       "      <td>39</td>\n",
       "      <td>1697.11</td>\n",
       "      <td>13.58</td>\n",
       "      <td>13.58000</td>\n",
       "      <td>0.00000</td>\n",
       "    </tr>\n",
       "    <tr>\n",
       "      <th>2</th>\n",
       "      <td>2025-03-01</td>\n",
       "      <td>Master Crédito</td>\n",
       "      <td>Normal</td>\n",
       "      <td>a_vista</td>\n",
       "      <td>84</td>\n",
       "      <td>4719.40</td>\n",
       "      <td>85.90</td>\n",
       "      <td>70.79100</td>\n",
       "      <td>-15.10900</td>\n",
       "    </tr>\n",
       "    <tr>\n",
       "      <th>3</th>\n",
       "      <td>2025-03-01</td>\n",
       "      <td>Master Crédito</td>\n",
       "      <td>Normal</td>\n",
       "      <td>parcelado</td>\n",
       "      <td>15</td>\n",
       "      <td>4033.28</td>\n",
       "      <td>80.67</td>\n",
       "      <td>76.63232</td>\n",
       "      <td>-4.03768</td>\n",
       "    </tr>\n",
       "    <tr>\n",
       "      <th>4</th>\n",
       "      <td>2025-03-01</td>\n",
       "      <td>Master Débito</td>\n",
       "      <td>Normal</td>\n",
       "      <td>a_vista</td>\n",
       "      <td>32</td>\n",
       "      <td>897.16</td>\n",
       "      <td>7.22</td>\n",
       "      <td>8.97160</td>\n",
       "      <td>1.75160</td>\n",
       "    </tr>\n",
       "    <tr>\n",
       "      <th>5</th>\n",
       "      <td>2025-03-01</td>\n",
       "      <td>Outros</td>\n",
       "      <td>Normal</td>\n",
       "      <td>a_vista</td>\n",
       "      <td>113</td>\n",
       "      <td>2758.18</td>\n",
       "      <td>23.03</td>\n",
       "      <td>23.03000</td>\n",
       "      <td>0.00000</td>\n",
       "    </tr>\n",
       "    <tr>\n",
       "      <th>6</th>\n",
       "      <td>2025-03-01</td>\n",
       "      <td>Visa Crédito</td>\n",
       "      <td>Normal</td>\n",
       "      <td>a_vista</td>\n",
       "      <td>43</td>\n",
       "      <td>2325.07</td>\n",
       "      <td>42.31</td>\n",
       "      <td>42.31000</td>\n",
       "      <td>0.00000</td>\n",
       "    </tr>\n",
       "    <tr>\n",
       "      <th>7</th>\n",
       "      <td>2025-03-01</td>\n",
       "      <td>Visa Crédito</td>\n",
       "      <td>Normal</td>\n",
       "      <td>parcelado</td>\n",
       "      <td>18</td>\n",
       "      <td>2247.12</td>\n",
       "      <td>44.96</td>\n",
       "      <td>44.96000</td>\n",
       "      <td>0.00000</td>\n",
       "    </tr>\n",
       "    <tr>\n",
       "      <th>8</th>\n",
       "      <td>2025-03-01</td>\n",
       "      <td>Visa Débito</td>\n",
       "      <td>Normal</td>\n",
       "      <td>a_vista</td>\n",
       "      <td>84</td>\n",
       "      <td>3042.10</td>\n",
       "      <td>24.36</td>\n",
       "      <td>24.36000</td>\n",
       "      <td>0.00000</td>\n",
       "    </tr>\n",
       "  </tbody>\n",
       "</table>\n",
       "</div>"
      ],
      "text/plain": [
       "         mes  codigo_produto tipo_pagamento tipo_parcelamento  \\\n",
       "0 2025-03-01     Elo Crédito         Normal           a_vista   \n",
       "1 2025-03-01      Elo Débito         Normal           a_vista   \n",
       "2 2025-03-01  Master Crédito         Normal           a_vista   \n",
       "3 2025-03-01  Master Crédito         Normal         parcelado   \n",
       "4 2025-03-01   Master Débito         Normal           a_vista   \n",
       "5 2025-03-01          Outros         Normal           a_vista   \n",
       "6 2025-03-01    Visa Crédito         Normal           a_vista   \n",
       "7 2025-03-01    Visa Crédito         Normal         parcelado   \n",
       "8 2025-03-01     Visa Débito         Normal           a_vista   \n",
       "\n",
       "   total_transacoes  volume_total  mdr_atual  mdr_proposto  diferenca_mdr  \n",
       "0                 6        178.05       3.24       3.24000        0.00000  \n",
       "1                39       1697.11      13.58      13.58000        0.00000  \n",
       "2                84       4719.40      85.90      70.79100      -15.10900  \n",
       "3                15       4033.28      80.67      76.63232       -4.03768  \n",
       "4                32        897.16       7.22       8.97160        1.75160  \n",
       "5               113       2758.18      23.03      23.03000        0.00000  \n",
       "6                43       2325.07      42.31      42.31000        0.00000  \n",
       "7                18       2247.12      44.96      44.96000        0.00000  \n",
       "8                84       3042.10      24.36      24.36000        0.00000  "
      ]
     },
     "metadata": {},
     "output_type": "display_data"
    }
   ],
   "source": [
    "taxas = {\n",
    "    \"Master Crédito\": {\n",
    "        \"parcelado\": {\n",
    "            \"mdr_percentual\": 1.9  # 1.9%\n",
    "        },\n",
    "        \"a_vista\": {\n",
    "            \"mdr_percentual\": 1.5  # 1.5%\n",
    "        }\n",
    "    },\n",
    "    \"Master Débito\": {\n",
    "        \"a_vista\": {\n",
    "            \"mdr_percentual\": 1.0  # 1.0%\n",
    "        }\n",
    "    }\n",
    "}\n",
    "\n",
    "simulacao, impacto_total = simulate_mdr_by_product(\n",
    "    connection_params=connection_params,\n",
    "    taxas_json=taxas\n",
    ")\n",
    "\n",
    "display(simulacao)"
   ]
  },
  {
   "cell_type": "code",
   "execution_count": null,
   "metadata": {},
   "outputs": [],
   "source": []
  },
  {
   "cell_type": "code",
   "execution_count": null,
   "metadata": {},
   "outputs": [],
   "source": []
  }
 ],
 "metadata": {
  "kernelspec": {
   "display_name": "Python 3",
   "language": "python",
   "name": "python3"
  },
  "language_info": {
   "codemirror_mode": {
    "name": "ipython",
    "version": 3
   },
   "file_extension": ".py",
   "mimetype": "text/x-python",
   "name": "python",
   "nbconvert_exporter": "python",
   "pygments_lexer": "ipython3",
   "version": "3.10.14"
  }
 },
 "nbformat": 4,
 "nbformat_minor": 2
}
